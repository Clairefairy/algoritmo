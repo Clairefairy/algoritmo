{
 "cells": [
  {
   "cell_type": "markdown",
   "metadata": {},
   "source": [
    "Questão 1"
   ]
  },
  {
   "cell_type": "code",
   "execution_count": 1,
   "metadata": {},
   "outputs": [],
   "source": [
    "num = int(input('Digite um número:'))"
   ]
  },
  {
   "cell_type": "code",
   "execution_count": 2,
   "metadata": {},
   "outputs": [
    {
     "name": "stdout",
     "output_type": "stream",
     "text": [
      "O número informado foi  42\n"
     ]
    }
   ],
   "source": [
    "print('O número informado foi ', num)"
   ]
  },
  {
   "cell_type": "markdown",
   "metadata": {},
   "source": [
    "Questão 2"
   ]
  },
  {
   "cell_type": "code",
   "execution_count": 5,
   "metadata": {},
   "outputs": [],
   "source": [
    "num1 = int(input('Informe um número inteiro:'))\n",
    "num2 = int(input('Informe outro número inteiro:'))"
   ]
  },
  {
   "cell_type": "code",
   "execution_count": 12,
   "metadata": {},
   "outputs": [
    {
     "name": "stdout",
     "output_type": "stream",
     "text": [
      "A soma entre os valores 42 e 25 é igual a 67\n"
     ]
    }
   ],
   "source": [
    "print('A soma entre os valores', num1, 'e', num2, 'é igual a',  num1 + num2)"
   ]
  },
  {
   "cell_type": "markdown",
   "metadata": {},
   "source": [
    "Questão 3"
   ]
  },
  {
   "cell_type": "code",
   "execution_count": 14,
   "metadata": {},
   "outputs": [],
   "source": [
    "nota1 = float(input('Informe a nota do primeiro bimestre:'))\n",
    "nota2 = float(input('Informe a nota do segundo bimestre:'))\n",
    "nota3 = float(input('Informe a nota do terceiro bimestre:'))"
   ]
  },
  {
   "cell_type": "code",
   "execution_count": 17,
   "metadata": {},
   "outputs": [
    {
     "name": "stdout",
     "output_type": "stream",
     "text": [
      "A média do semestre é 8.433333333333332\n"
     ]
    }
   ],
   "source": [
    "media = (nota1 + nota2 + nota3)/3\n",
    "print('A média do semestre é', media)"
   ]
  },
  {
   "cell_type": "markdown",
   "metadata": {},
   "source": [
    "Questão 4"
   ]
  },
  {
   "cell_type": "code",
   "execution_count": 28,
   "metadata": {},
   "outputs": [],
   "source": [
    "#Perguntar qual o valor da hora de trabalho\n",
    "valorhora = float(input('Qual o valor da sua hora de trabalho?'))"
   ]
  },
  {
   "cell_type": "code",
   "execution_count": 33,
   "metadata": {},
   "outputs": [],
   "source": [
    "#Perguntar quantas horas foram trabalhadas no mês\n",
    "tempo = int(input('Quantas horas você trabalhou este mês?'))"
   ]
  },
  {
   "cell_type": "code",
   "execution_count": 30,
   "metadata": {},
   "outputs": [],
   "source": [
    "#Calcular o salário do mês\n",
    "salario = valorhora*tempo"
   ]
  },
  {
   "cell_type": "code",
   "execution_count": 31,
   "metadata": {},
   "outputs": [
    {
     "name": "stdout",
     "output_type": "stream",
     "text": [
      "O seu salário este mês é R$ 3750.0\n"
     ]
    }
   ],
   "source": [
    "#Imprimir o salário\n",
    "print('O seu salário este mês é R$', salario)"
   ]
  },
  {
   "cell_type": "markdown",
   "metadata": {},
   "source": [
    "Desafio"
   ]
  },
  {
   "cell_type": "code",
   "execution_count": null,
   "metadata": {},
   "outputs": [],
   "source": [
    "#Determinar a variável peso dos peixes\n",
    "#Determinar excesso, se houver\n",
    "#Calcular variável multa, se houver\n",
    "#Imprimir multa, se houver"
   ]
  },
  {
   "cell_type": "code",
   "execution_count": 39,
   "metadata": {},
   "outputs": [],
   "source": [
    "peso = float(input('Olá, João! Qual foi o peso de peixes que você trouxe esta manhã?'))"
   ]
  },
  {
   "cell_type": "code",
   "execution_count": 40,
   "metadata": {},
   "outputs": [
    {
     "name": "stdout",
     "output_type": "stream",
     "text": [
      "O total da multa de hoje é R$ 10.0\n"
     ]
    }
   ],
   "source": [
    "if peso <= 50:\n",
    "    print('Parabéns! Você não pagará multa hoje!')\n",
    "else:\n",
    "    excesso = peso - 50\n",
    "    multa = excesso*4\n",
    "    print('O total da multa de hoje é R$', multa)"
   ]
  }
 ],
 "metadata": {
  "kernelspec": {
   "display_name": "Python 3",
   "language": "python",
   "name": "python3"
  },
  "language_info": {
   "codemirror_mode": {
    "name": "ipython",
    "version": 3
   },
   "file_extension": ".py",
   "mimetype": "text/x-python",
   "name": "python",
   "nbconvert_exporter": "python",
   "pygments_lexer": "ipython3",
   "version": "3.10.11"
  }
 },
 "nbformat": 4,
 "nbformat_minor": 2
}
