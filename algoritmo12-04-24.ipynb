{
 "cells": [
  {
   "cell_type": "code",
   "execution_count": 4,
   "metadata": {},
   "outputs": [],
   "source": [
    "ano = int(input('Digite o ano de fabricação do seu carro:'))\n",
    "valor = float(input('Digite o valor do seu carro:'))"
   ]
  },
  {
   "cell_type": "code",
   "execution_count": 5,
   "metadata": {},
   "outputs": [
    {
     "name": "stdout",
     "output_type": "stream",
     "text": [
      "O imposto sobre seu veículo é de R$ 405.0\n"
     ]
    }
   ],
   "source": [
    "if ano < 1990:\n",
    "    imposto = 1/100 * valor\n",
    "    print('O imposto sobre seu veículo é de R$', imposto)\n",
    "else:\n",
    "    imposto = 15/1000 * valor\n",
    "    print('O imposto sobre seu veículo é de R$', imposto)"
   ]
  },
  {
   "cell_type": "code",
   "execution_count": null,
   "metadata": {},
   "outputs": [],
   "source": [
    "#determinar o salário\n",
    "#determinar o ID do seu cargo\n",
    "#calcular novo salário\n",
    "#imprimir salário antigo, novo salário e diferença"
   ]
  },
  {
   "cell_type": "code",
   "execution_count": 9,
   "metadata": {},
   "outputs": [],
   "source": [
    "salario = float(input('Digite seu salário'))\n",
    "cargo = int(input('Digite o ID do seu cargo:'))"
   ]
  },
  {
   "cell_type": "code",
   "execution_count": 13,
   "metadata": {},
   "outputs": [
    {
     "name": "stdout",
     "output_type": "stream",
     "text": [
      "Seu salário antigo é de R$ 5280.0 \n",
      "Seu aumento (40%) é de R$ 2112.0 \n",
      "Seu novo salário será R$ 7392.0\n"
     ]
    }
   ],
   "source": [
    "if cargo == 101:\n",
    "    aumento = 10/100 * salario\n",
    "    print('Seu salário antigo é de R$', salario, '\\nSeu aumento (10%) é de R$', aumento, '\\nSeu novo salário será R$', salario + aumento)\n",
    "elif cargo == 102:\n",
    "    aumento = 20/100 * salario\n",
    "    print('Seu salário antigo é de R$', salario, '\\nSeu aumento (20%) é de R$', aumento, '\\nSeu novo salário será R$', salario + aumento)\n",
    "elif cargo == 103:\n",
    "    aumento = 30/100 * salario\n",
    "    print('Seu salário antigo é de R$', salario, '\\nSeu aumento (30%) é de R$', aumento, '\\nSeu novo salário será R$', salario + aumento)\n",
    "else:\n",
    "    aumento = 40/100 * salario\n",
    "    print('Seu salário antigo é de R$', salario, '\\nSeu aumento (40%) é de R$', aumento, '\\nSeu novo salário será R$', salario + aumento)"
   ]
  }
 ],
 "metadata": {
  "kernelspec": {
   "display_name": "Python 3",
   "language": "python",
   "name": "python3"
  },
  "language_info": {
   "codemirror_mode": {
    "name": "ipython",
    "version": 3
   },
   "file_extension": ".py",
   "mimetype": "text/x-python",
   "name": "python",
   "nbconvert_exporter": "python",
   "pygments_lexer": "ipython3",
   "version": "3.10.2"
  }
 },
 "nbformat": 4,
 "nbformat_minor": 2
}
