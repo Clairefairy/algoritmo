{
 "cells": [
  {
   "cell_type": "code",
   "execution_count": 2,
   "metadata": {},
   "outputs": [
    {
     "name": "stdout",
     "output_type": "stream",
     "text": [
      "5 patinhos foram passear\n",
      " Além das montanhas para brincar\n",
      " A mamãe gritou: \"quá, quá, quá, quá!\"\n",
      " Mas só 4 patinhos voltaram de lá\n",
      "\n",
      "4 patinhos foram passear\n",
      " Além das montanhas para brincar\n",
      " A mamãe gritou: \"quá, quá, quá, quá!\"\n",
      " Mas só 3 patinhos voltaram de lá\n",
      "\n",
      "3 patinhos foram passear\n",
      " Além das montanhas para brincar\n",
      " A mamãe gritou: \"quá, quá, quá, quá!\"\n",
      " Mas só 2 patinhos voltaram de lá\n",
      "\n",
      "2 patinhos foram passear\n",
      " Além das montanhas para brincar\n",
      " A mamãe gritou: \"quá, quá, quá, quá!\"\n",
      " Mas só 1 patinhos voltaram de lá\n",
      "\n",
      "1 patinho foi passear\n",
      " Além das montanhas para brincar\n",
      " A mamãe gritou: \"quá, quá, quá, quá!\"\n",
      " Mas nenhum patinho voltou de lá\n"
     ]
    }
   ],
   "source": [
    "for patos in [5, 4, 3, 2, 1]:\n",
    "    if patos != 1 :\n",
    "        print(patos, 'patinhos foram passear\\n Além das montanhas para brincar\\n A mamãe gritou: \"quá, quá, quá, quá!\"\\n Mas só', patos-1, 'patinhos voltaram de lá\\n', )\n",
    "    else :\n",
    "        print(patos, 'patinho foi passear\\n Além das montanhas para brincar\\n A mamãe gritou: \"quá, quá, quá, quá!\"\\n Mas nenhum patinho voltou de lá', )"
   ]
  },
  {
   "cell_type": "code",
   "execution_count": 12,
   "metadata": {},
   "outputs": [
    {
     "name": "stdout",
     "output_type": "stream",
     "text": [
      "Esta é a tabuada do número 5 :\n",
      "\n",
      "5 x 1 = 5\n",
      "5 x 2 = 10\n",
      "5 x 3 = 15\n",
      "5 x 4 = 20\n",
      "5 x 5 = 25\n",
      "5 x 6 = 30\n",
      "5 x 7 = 35\n",
      "5 x 8 = 40\n",
      "5 x 9 = 45\n"
     ]
    }
   ],
   "source": [
    "# Determinar número da tabuada\n",
    "numero = int(input('Digite um número:'))\n",
    "print(\"Esta é a tabuada do número\", numero, \":\\n\")\n",
    "# Montar operação por extenso e integrar o resultado da multiplicação\n",
    "for multiplo in [1, 2, 3, 4, 5, 6, 7, 8, 9]:\n",
    "    print(numero, \"x\", multiplo, \"=\", numero*multiplo)"
   ]
  }
 ],
 "metadata": {
  "kernelspec": {
   "display_name": "Python 3",
   "language": "python",
   "name": "python3"
  },
  "language_info": {
   "codemirror_mode": {
    "name": "ipython",
    "version": 3
   },
   "file_extension": ".py",
   "mimetype": "text/x-python",
   "name": "python",
   "nbconvert_exporter": "python",
   "pygments_lexer": "ipython3",
   "version": "3.10.2"
  }
 },
 "nbformat": 4,
 "nbformat_minor": 2
}
