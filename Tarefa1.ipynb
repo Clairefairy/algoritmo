{
 "cells": [
  {
   "cell_type": "code",
   "execution_count": 18,
   "metadata": {},
   "outputs": [
    {
     "name": "stdout",
     "output_type": "stream",
     "text": [
      "Formato inválido.\n"
     ]
    }
   ],
   "source": [
    "# Questão 1\n",
    "\n",
    "# Determinar vogais e consoantes em listas\n",
    "vogais = ['a', 'A', 'e', 'E', 'i', 'I', 'o', 'O', 'u', 'U']\n",
    "consoantes = ['b', 'B', 'c', 'C', 'd', 'D', 'f', 'F', 'g', 'G', 'h', 'H', 'j', 'J', 'k', 'K', 'l', 'L', 'm', 'M', 'n', 'N', 'p', 'P', 'q', 'Q', 'r', 'R', 't', 'T', 'v', 'V', 'w', 'W', 'x', 'X', 'y', 'Y', 'z', 'Z']\n",
    "\n",
    "# Solicitar input\n",
    "letra = str(input('Digite uma letra:'))\n",
    "\n",
    "# Verificar se o input se encontra em alguma das listas\n",
    "if letra in vogais:\n",
    "    print('A letra informada é uma vogal.')\n",
    "elif letra in consoantes:\n",
    "    print('A letra informada é uma consoante.')\n",
    "else:\n",
    "    print('Formato inválido.')"
   ]
  },
  {
   "cell_type": "code",
   "execution_count": 19,
   "metadata": {},
   "outputs": [
    {
     "name": "stdout",
     "output_type": "stream",
     "text": [
      "Leva qualquer um aí, tanto faz, é tudo igual mesmo.\n"
     ]
    }
   ],
   "source": [
    "# Questão 2\n",
    "\n",
    "# Solicitar input dos preços\n",
    "item1 = float(input('Digite o preço do primeiro produto:'))\n",
    "item2 = float(input('Digite o preço do segundo produto:'))\n",
    "item3 = float(input('Digite o preço do terceiro produto:'))\n",
    "\n",
    "# Comparar preços\n",
    "if item1 < item2 and item1 < item3 :\n",
    "    print('Talvez você devesse levar o primeiro item.')\n",
    "elif item2 < item1 and item2 < item3 :\n",
    "    print ('Talvez você devesse levar o segundo item.')\n",
    "elif item3 < item1 and item3 < item2 :\n",
    "    print('Talvez você devesse levar o terceiro item.')\n",
    "elif item1 == item2 and item1 < item3 :\n",
    "    print('Tanto faz você levar o primeiro ou segundo item')\n",
    "elif item2 == item3 and item2 < item1 :\n",
    "    print('Tanto faz você levar o segundo ou terceiro item.')\n",
    "elif item3 == item1 and item3 < item2 :\n",
    "    print('Tanto faz você levar o primeiro ou terceiro item.')\n",
    "else :\n",
    "    print('Leva qualquer um aí, tanto faz, é tudo igual mesmo.')"
   ]
  },
  {
   "cell_type": "code",
   "execution_count": 20,
   "metadata": {},
   "outputs": [
    {
     "name": "stdout",
     "output_type": "stream",
     "text": [
      "Números em ordem decrescente: [9, 6, 2]\n"
     ]
    }
   ],
   "source": [
    "# Questão 3\n",
    "\n",
    "# Solicitar input dos números inteiros\n",
    "num1 = int(input(\"Digite um número inteiro: \"))\n",
    "num2 = int(input(\"Digite outro número inteiro: \"))\n",
    "num3 = int(input(\"Digite o último número inteiro: \"))\n",
    "\n",
    "# Organizar os números em uma lista e usar a função \"sorted\" (acredito que não aprendemos essa função em sala de aula, mas pesquisei a respeito e resolvi usar)\n",
    "numOrdem = sorted([num1, num2, num3], reverse=True)\n",
    "\n",
    "# Printar a nova lista\n",
    "print(\"Aqui estão os números informados, em ordem decrescente:\", numOrdem)"
   ]
  },
  {
   "cell_type": "code",
   "execution_count": 4,
   "metadata": {},
   "outputs": [
    {
     "name": "stdout",
     "output_type": "stream",
     "text": [
      "Formato inválido!\n"
     ]
    }
   ],
   "source": [
    "# Questão 4\n",
    "\n",
    "# Determinar formatos válidos do turno em uma lista\n",
    "turnoValido = ['m', 'M', 'v', 'V', 'n', 'N']\n",
    "\n",
    "# Solicitar input do turno\n",
    "turno = str(input('Informe o turno em que você estuda. Utilize \"M\" para Matutino, \"V\" para Vespertino ou \"N\" para noturno.'))\n",
    "\n",
    "if turno in turnoValido :\n",
    "    if turno == 'm' or turno == 'M' :\n",
    "        print('Bom dia, raio de sol!')\n",
    "    elif turno == 'v' or turno == 'V' :\n",
    "        print('Boa tardinha pra você~')\n",
    "    else :\n",
    "        print('Boa noitinha e cuidado na volta pra casa!')\n",
    "else :\n",
    "    print('Formato inválido!')"
   ]
  },
  {
   "cell_type": "code",
   "execution_count": 10,
   "metadata": {},
   "outputs": [
    {
     "name": "stdout",
     "output_type": "stream",
     "text": [
      "O número 2 corresponde ao dia segunda-feira\n"
     ]
    }
   ],
   "source": [
    "# Questão 5\n",
    "\n",
    "# Determinar opções válidas em um dicionário\n",
    "diasSemana = {\n",
    "    1: 'domingo',\n",
    "    2: 'segunda-feira',\n",
    "    3: 'terça-feira',\n",
    "    4: 'quarta-feira',\n",
    "    5: 'quinta-feira',\n",
    "    6: 'sexta-feira',\n",
    "    7: 'Sábado'\n",
    "}\n",
    "\n",
    "# Solicitar input do número\n",
    "dia = int(input('Informe um número de 1 a 7:'))\n",
    "\n",
    "# Verificar a validade do número e atribuir um dia da semana\n",
    "if dia in diasSemana :\n",
    "    print('O número', dia, 'corresponde ao dia', diasSemana[dia])\n",
    "else :\n",
    "    print('Número inválido!')"
   ]
  },
  {
   "cell_type": "code",
   "execution_count": 32,
   "metadata": {},
   "outputs": [
    {
     "name": "stdout",
     "output_type": "stream",
     "text": [
      "Suas notas parciais são 3.0 e 4.0 \n",
      "Sua média é 3.5 e seu conceito é F \n",
      "Você está reprovado.\n"
     ]
    }
   ],
   "source": [
    "# Questão 5 (repetiu o número kkkk)\n",
    "\n",
    "# Solicitar input das notas\n",
    "nota1 = float(input('Informe a nota da primeira avaliação:'))\n",
    "nota2 = float(input('Informe a nota da segunda avaliação:'))\n",
    "\n",
    "# Calcular média\n",
    "media = (nota1 + nota2)/2\n",
    "\n",
    "# Atribuir valores de média a conceitos. Tomei a liberdade de trocar conceito E por F.\n",
    "if media > 0 and media <= 10 :\n",
    "    if media >= 9 and media <= 10:\n",
    "        conceito = 'A'\n",
    "    elif media >= 7.5 and media < 9 :\n",
    "        conceito = 'B'\n",
    "    elif media >= 6 and media < 7.5 :\n",
    "        conceito = 'C'\n",
    "    elif media >= 4 and media < 6 :\n",
    "        conceito = 'D'\n",
    "    else :\n",
    "        conceito = 'F'\n",
    "else :\n",
    "    conceito = 'null'\n",
    "\n",
    "# Imprimir as notas, a média, o conceito e o status de aprovação.\n",
    "if media >= 6.0 and media <= 10 :\n",
    "    print('Suas notas parciais são', nota1, 'e', nota2, '\\nSua média é', media, 'e seu conceito é', conceito, '\\nVocê está aprovado!')\n",
    "else:\n",
    "    if conceito == 'null' :\n",
    "        print('Média ou notas inválidas')\n",
    "    else :\n",
    "        print('Suas notas parciais são', nota1, 'e', nota2, '\\nSua média é', media, 'e seu conceito é', conceito, '\\nVocê está reprovado.')"
   ]
  },
  {
   "cell_type": "code",
   "execution_count": 35,
   "metadata": {},
   "outputs": [
    {
     "name": "stdout",
     "output_type": "stream",
     "text": [
      "O ano 2012 é bissexto.\n"
     ]
    }
   ],
   "source": [
    "# Questão 6\n",
    "\n",
    "# Solicitar o input do ano\n",
    "ano = int(input('Informe um ano:'))\n",
    "\n",
    "# Verificar se o ano é bissexto e imprimir a resposta\n",
    "if ano % 4 == 0 :\n",
    "    print('O ano', ano, 'é bissexto.')\n",
    "else:\n",
    "    print('O ano', ano, 'não é bissexto.')"
   ]
  },
  {
   "cell_type": "code",
   "execution_count": 49,
   "metadata": {},
   "outputs": [
    {
     "name": "stdout",
     "output_type": "stream",
     "text": [
      "O resultado da operação é 14.0 \n",
      "Este número é inteiro e é par.\n",
      "E além disso, o número é positivo.\n"
     ]
    }
   ],
   "source": [
    "# Questão 7\n",
    "\n",
    "# Fazer uma lista para limitar as opções de operação\n",
    "operacoesValidas = ['+','-','*','/']\n",
    "\n",
    "# Solicitar o input dos números e a operação a ser feita.\n",
    "numero1 = float(input('Digite um número:'))\n",
    "numero2 = float(input('Digite outro número:'))\n",
    "operacao = input('Selecione a operação a ser feita. Use + para soma, - para subtração, * para multiplicação e / para divisão.')\n",
    "\n",
    "# Verificar se a operação selecionada se encontra na lista de operações válidas. Usar a operação para determinar a variável dos resultados.\n",
    "# No caso da operação de divisão, fazer um failsafe para eventualmente retornar que é impossível dividir por zero.\n",
    "if operacao == '/' and numero2 == 0 :\n",
    "    resultado = 'null'\n",
    "else :\n",
    "    if operacao in operacoesValidas :\n",
    "        if operacao == '+' :\n",
    "            resultado = numero1 + numero2\n",
    "        elif operacao == '-' :\n",
    "            resultado = numero1 - numero2\n",
    "        elif operacao == '*' :\n",
    "            resultado = numero1 * numero2\n",
    "        else :\n",
    "            resultado = numero1 / numero2\n",
    "    else :\n",
    "        print('Operação inválida!')\n",
    "\n",
    "# Processar o resultado, informando as características solicitadas\n",
    "if resultado == 'null':\n",
    "    print('É impossível dividir por zero!')\n",
    "elif resultado % 1 == 0 :\n",
    "    if resultado % 2 == 0 :\n",
    "        print('O resultado da operação é', resultado, '\\nEste número é inteiro e é par.')\n",
    "    else :\n",
    "        print('O resultado da operação é', resultado, '\\nEste número é inteiro e é ímpar.')\n",
    "else :\n",
    "    print('O resultado da operação é', resultado, '\\nEste número possui casas decimais.')\n",
    "\n",
    "if resultado > 0 :\n",
    "    print('E além disso, o número é positivo.')\n",
    "elif resultado == 0 :\n",
    "    print('E além disso, o número é nulo.')\n",
    "else :\n",
    "    print('E além disso, o número é negativo.')"
   ]
  },
  {
   "cell_type": "code",
   "execution_count": 59,
   "metadata": {},
   "outputs": [
    {
     "name": "stdout",
     "output_type": "stream",
     "text": [
      "Ok, não há registros oficiais de um ser humano que tenha vivido desse tanto, mas vou fingir que acredito.\n",
      "Sua idade está registrada e obrigada pela preferência!\n"
     ]
    }
   ],
   "source": [
    "# Questão 8\n",
    "\n",
    "# Solicitar o input da idade\n",
    "idade = int(input('Digite sua idade:'))\n",
    "\n",
    "# Comparar se a idade é válida (está bem mais longo do que deveria ser, mas deixa eu me divertir um pouquinho kkkkkkkk)\n",
    "if idade >= 0 and idade <= 120 :\n",
    "    print('Ok! Sua idade está registrada, muito obrigada pela preferência! :)')\n",
    "elif idade > 120 and idade <= 150 :\n",
    "    print('Ok, não há registros oficiais de um ser humano que tenha vivido desse tanto, mas vou fingir que acredito.\\nSua idade está registrada e obrigada pela preferência!')\n",
    "elif idade > 150 :\n",
    "    print('Idade inválida. Em nosso sistema, não aceitamos idades superiores a 150 anos. \\nTem certeza de que está falando de alguém vivo?')\n",
    "else :\n",
    "    print('Idade inválida. Volte quando tiver nascido.')"
   ]
  },
  {
   "cell_type": "code",
   "execution_count": 53,
   "metadata": {},
   "outputs": [
    {
     "name": "stdout",
     "output_type": "stream",
     "text": [
      "A soma dos números é 285.0 \n",
      "A média entre eles é 57.0\n"
     ]
    }
   ],
   "source": [
    "# Questão 9\n",
    "\n",
    "# Determine uma variável de soma. Solicitar o input dos números usando uma estrutura de repetição e some os números dentro da própria estrutura.\n",
    "soma= 0\n",
    "for num in range(5) :\n",
    "    n = float(input('Digite um número:'))\n",
    "    soma += n\n",
    "\n",
    "# Determine a média e imprima-a junto com a soma\n",
    "mean = sum/5\n",
    "print('A soma dos números é', sum, '\\nA média entre eles é', mean)"
   ]
  },
  {
   "cell_type": "code",
   "execution_count": 65,
   "metadata": {},
   "outputs": [
    {
     "name": "stdout",
     "output_type": "stream",
     "text": [
      "O número 15 não é primo\n"
     ]
    }
   ],
   "source": [
    "# Questão 10\n",
    "\n",
    "# Solicitar o input do número\n",
    "numero = int(input('Digite um número:'))\n",
    "\n",
    "# Usando uma estrutura de repetição, checar se o número é divisível por qualquer coisa além de 1 e ele mesmo. Usar um intervalo de 1 ao número informado.\n",
    "# Como, por padrão, range usa intervalo aberto, use +1 no final do range para que inclua o número primo\n",
    "checkPrimo = 0\n",
    "for div in range(1,numero + 1) :\n",
    "    if numero % div == 0 :\n",
    "        checkPrimo += 1\n",
    "if checkPrimo == 2:\n",
    "    print('O número', numero, 'é primo.')\n",
    "else :\n",
    "    print('O número', numero, 'não é primo')"
   ]
  },
  {
   "cell_type": "code",
   "execution_count": 7,
   "metadata": {},
   "outputs": [
    {
     "name": "stdout",
     "output_type": "stream",
     "text": [
      "A temperatura máxima foi 14.1 °C\n",
      "A temperatura mínima foi 10.2 °C\n",
      "A média entre as temperaturas é 11.98 °C\n"
     ]
    }
   ],
   "source": [
    "# Questão 11\n",
    "\n",
    "# Determinar uma lista para armazenar as temperaturas informadas e use uma estrutura de repetição para pedir as temperaturas.\n",
    "temperaturas = []\n",
    "for t in range(5) :\n",
    "    temp = float(input('Digite a temperatura:'))\n",
    "    temperaturas.append(temp)\n",
    "\n",
    "# Na lista, encontre a maior e a menor temperatura, e calcule a média\n",
    "maxima = max(temperaturas)\n",
    "minima = min(temperaturas)\n",
    "mediaTemp = sum(temperaturas) / len(temperaturas)\n",
    "\n",
    "# Imprimir os resultados\n",
    "print('A temperatura máxima foi', maxima,'°C')\n",
    "print('A temperatura mínima foi', minima,'°C')\n",
    "print('A média entre as temperaturas é', mediaTemp,'°C')"
   ]
  },
  {
   "cell_type": "code",
   "execution_count": 75,
   "metadata": {},
   "outputs": [
    {
     "name": "stdout",
     "output_type": "stream",
     "text": [
      "Seu saldo médio é: 600.0 e você ganhou 180.0 do valor de crédito.\n"
     ]
    }
   ],
   "source": [
    "# Questão 12\n",
    "\n",
    "# Solicitar o input do saldo\n",
    "credito = float(input(\"Digite seu saldo médio:\"))\n",
    "\n",
    "# Comparar o crédito e fazer os devidos cálculos\n",
    "if credito >= 0 and credito <= 200:\n",
    "    print(f\"Seu saldo médio é: {credito} e não tem nenhum crédito.\")\n",
    "elif credito >=201 and credito <= 400:\n",
    "    total = (credito*(20/100))\n",
    "    print(f\"Seu saldo médio é: {credito} e você ganhou {total} do valor de crédito.\")\n",
    "elif credito >=401 and credito <= 600:\n",
    "    total = (credito*(30/100))\n",
    "    print(f\"Seu saldo médio é: {credito} e você ganhou {total} do valor de crédito.\")\n",
    "else:\n",
    "    total = (credito*(40/100))\n",
    "    print(f\"Seu saldo médio é: {credito} e você ganhou {total} do valor de crédito.\")"
   ]
  },
  {
   "cell_type": "code",
   "execution_count": 79,
   "metadata": {},
   "outputs": [
    {
     "name": "stdout",
     "output_type": "stream",
     "text": [
      "Maria Clara Parente Félix poderá se aposentar em 2059\n"
     ]
    }
   ],
   "source": [
    "# Questão 13\n",
    "\n",
    "# Solicitar input do nome e idade\n",
    "nome = input(\"Informe seu nome completo:\")\n",
    "idadeA = int(input(\"Informe sua idade:\"))\n",
    "\n",
    "# Determinar ano de aposentadoria a partir da idade. Se a idade for superior a 65, qualifique como aposentado.\n",
    "if idadeA > 65 :\n",
    "    print('Você já é aposentado!')\n",
    "elif idadeA < 0 :\n",
    "    print('Idade inválida!')\n",
    "else:\n",
    "    print(nome, 'poderá se aposentar em', 2024 + 65 - idadeA)"
   ]
  },
  {
   "cell_type": "code",
   "execution_count": 4,
   "metadata": {},
   "outputs": [
    {
     "name": "stdout",
     "output_type": "stream",
     "text": [
      "\n",
      " Seu salário é: R$ 3492.0 \n",
      " Você obteve 15% de desconto com base em seu salário bruto! \n",
      " Total após desconto: R$ 3060.0.\n"
     ]
    }
   ],
   "source": [
    "# Questão 14\n",
    "\n",
    "# Solicitar input do valor da hora de trabalho e quantas horas se trabalha por mês\n",
    "valorHT = float(input('Informe o valor da sua hora de trabalho:'))\n",
    "horasMes = int(input('Informe o quanto você trabalha, em horas, por mês:'))\n",
    "\n",
    "# Calcular salário bruto e líquido. FGTS não está sendo levado em consideração, pois este não é descontado\n",
    "bruto = (valorHT * horasMes)\n",
    "liquido = bruto * 0.97\n",
    "\n",
    "# Comparar salários de acordo com os limiares do imposto\n",
    "if bruto >= 0 and bruto <= 2111.99:\n",
    "    print(f\"\\n Seu salário é: R$ {liquido} \\n Você é isento de Imposto de Renda.\")\n",
    "elif bruto >= 2112.00 and bruto <= 2826.64:\n",
    "    total = bruto - (bruto*(7.5/100))\n",
    "    print(f\"\\n Seu salário é: R$ {liquido} \\n Você obteve 7,5% de desconto com base em seu salário bruto! \\n Total após desconto: R$ {total}.\")\n",
    "elif bruto >= 2826.65 and bruto <= 3751.05:\n",
    "    total = bruto - (bruto*(15/100))\n",
    "    print(f\"\\n Seu salário é: R$ {liquido} \\n Você obteve 15% de desconto com base em seu salário bruto! \\n Total após desconto: R$ {total}.\")\n",
    "elif bruto >= 3751.06 and bruto <= 4663.68:\n",
    "    total = bruto - (bruto*(22.5/100))\n",
    "    print(f\"\\n Seu salário é: R$ {liquido} \\n Você obteve 22,5% de desconto com base em seu salário bruto! \\n Total após desconto: R$ {total}.\")\n",
    "else:\n",
    "    total = bruto - (bruto*(27.5/100))\n",
    "    print(f\"\\n Seu salário é: R$ {liquido} \\n Você obteve 27,5% de desconto com base em seu salário bruto! \\n Total após desconto: R$ {total}.\")"
   ]
  }
 ],
 "metadata": {
  "kernelspec": {
   "display_name": "Python 3",
   "language": "python",
   "name": "python3"
  },
  "language_info": {
   "codemirror_mode": {
    "name": "ipython",
    "version": 3
   },
   "file_extension": ".py",
   "mimetype": "text/x-python",
   "name": "python",
   "nbconvert_exporter": "python",
   "pygments_lexer": "ipython3",
   "version": "3.11.4"
  }
 },
 "nbformat": 4,
 "nbformat_minor": 2
}
